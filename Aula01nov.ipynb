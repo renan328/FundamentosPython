{
 "cells": [
  {
   "cell_type": "code",
   "execution_count": 3,
   "metadata": {},
   "outputs": [
    {
     "name": "stdout",
     "output_type": "stream",
     "text": [
      "0\n",
      "eu sou global\n",
      "1\n"
     ]
    }
   ],
   "source": [
    "variavel_global = \"eu sou global\"\n",
    "VarN1 = 0\n",
    "\n",
    "def minha_funcao():\n",
    "    global VarN1 # Permite a alteração do valor\n",
    "    print(variavel_global)\n",
    "    VarN1 = VarN1 + 1\n",
    "\n",
    "print(VarN1)\n",
    "minha_funcao()\n",
    "print(VarN1)"
   ]
  },
  {
   "cell_type": "code",
   "execution_count": null,
   "metadata": {},
   "outputs": [],
   "source": [
    "VarGlobal_n1 = 1\n",
    "\n",
    "def MudarNr(NovoValor = 0):\n",
    "    global VarGlobal_n1\n",
    "    VarGlobal_n1 = NovoValor\n",
    "\n",
    "print('inicio', VarGlobal_n1)\n",
    "MudarNr()\n",
    "print('Fim ', VarGlobal_n1)"
   ]
  },
  {
   "cell_type": "code",
   "execution_count": 4,
   "metadata": {},
   "outputs": [
    {
     "name": "stdout",
     "output_type": "stream",
     "text": [
      "[10, 15, 3, 2]\n",
      "[2, 3, 10, 15]\n"
     ]
    }
   ],
   "source": [
    "VarN = [10, 15, 3, 2]\n",
    "trocou = 'S'\n",
    "\n",
    "# Apresentar vetor\n",
    "print(VarN)\n",
    "\n",
    "while (trocou == 'S'):\n",
    "    trocou = 'N'\n",
    "\n",
    "\n",
    "    for ct in range(len(VarN)-1):\n",
    "        if VarN[ct] > VarN[ct +1]:\n",
    "            ValorAntigo = VarN[ct]\n",
    "            VarN[ct] = VarN[ct +1]\n",
    "            VarN[ct +1] = ValorAntigo\n",
    "            trocou = 'S'\n",
    "\n",
    "# Apresentar vetor\n",
    "print(VarN)"
   ]
  }
 ],
 "metadata": {
  "kernelspec": {
   "display_name": "base",
   "language": "python",
   "name": "python3"
  },
  "language_info": {
   "codemirror_mode": {
    "name": "ipython",
    "version": 3
   },
   "file_extension": ".py",
   "mimetype": "text/x-python",
   "name": "python",
   "nbconvert_exporter": "python",
   "pygments_lexer": "ipython3",
   "version": "3.12.7"
  }
 },
 "nbformat": 4,
 "nbformat_minor": 2
}
